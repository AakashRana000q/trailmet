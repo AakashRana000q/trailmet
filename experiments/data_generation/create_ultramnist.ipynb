{
 "cells": [
  {
   "cell_type": "code",
   "execution_count": 1,
   "id": "b1e5537c-f891-4bb2-af3f-9cfe7a1a8e41",
   "metadata": {},
   "outputs": [],
   "source": [
    "import sys\n",
    "sys.path.append('/home/ubuntu/workspace/trailmet')"
   ]
  },
  {
   "cell_type": "code",
   "execution_count": 2,
   "id": "2d947b58-6d5d-45ef-a312-ec80c32a0c62",
   "metadata": {},
   "outputs": [],
   "source": [
    "from datasets.ultramnist import CreateUltraMNIST"
   ]
  },
  {
   "cell_type": "code",
   "execution_count": 4,
   "id": "a98a4af0-3d2f-4c15-8e78-b6d6f43a7794",
   "metadata": {},
   "outputs": [],
   "source": [
    "root_path = '/home/ubuntu/workspace/datasets/ultramnist/'\n",
    "base_path = 'home/ubuntu/workspace/datasets/mnist/'"
   ]
  },
  {
   "cell_type": "code",
   "execution_count": null,
   "id": "c0580705-6c5c-4a3b-990d-6e30f5ebffea",
   "metadata": {},
   "outputs": [],
   "source": [
    "base_data = 'MNIST'"
   ]
  },
  {
   "cell_type": "code",
   "execution_count": 3,
   "id": "0dc0efb8-5c79-4c7d-859e-c0e44a451ca7",
   "metadata": {},
   "outputs": [
    {
     "name": "stdout",
     "output_type": "stream",
     "text": [
      "Inherited init created correctly.\n",
      "Hello\n"
     ]
    }
   ],
   "source": [
    "obj_umnist = CreateUltraMNIST('')"
   ]
  },
  {
   "cell_type": "code",
   "execution_count": 5,
   "id": "20fd57ec-e6ce-4c6b-a28f-8bf6b1924520",
   "metadata": {},
   "outputs": [
    {
     "ename": "TypeError",
     "evalue": "generate_dataset() takes 0 positional arguments but 1 was given",
     "output_type": "error",
     "traceback": [
      "\u001b[0;31m---------------------------------------------------------------------------\u001b[0m",
      "\u001b[0;31mTypeError\u001b[0m                                 Traceback (most recent call last)",
      "\u001b[0;32m/tmp/ipykernel_22559/493884355.py\u001b[0m in \u001b[0;36m<module>\u001b[0;34m\u001b[0m\n\u001b[0;32m----> 1\u001b[0;31m \u001b[0mobj_umnist\u001b[0m\u001b[0;34m.\u001b[0m\u001b[0mgenerate_dataset\u001b[0m\u001b[0;34m(\u001b[0m\u001b[0;34m)\u001b[0m\u001b[0;34m\u001b[0m\u001b[0;34m\u001b[0m\u001b[0m\n\u001b[0m",
      "\u001b[0;31mTypeError\u001b[0m: generate_dataset() takes 0 positional arguments but 1 was given"
     ]
    }
   ],
   "source": [
    "obj_umnist.generate_dataset()"
   ]
  },
  {
   "cell_type": "code",
   "execution_count": null,
   "id": "8c8ca66d-8804-43d5-bb70-e2ed5c593d35",
   "metadata": {},
   "outputs": [],
   "source": []
  }
 ],
 "metadata": {
  "kernelspec": {
   "display_name": "Python 3 (ipykernel)",
   "language": "python",
   "name": "python3"
  },
  "language_info": {
   "codemirror_mode": {
    "name": "ipython",
    "version": 3
   },
   "file_extension": ".py",
   "mimetype": "text/x-python",
   "name": "python",
   "nbconvert_exporter": "python",
   "pygments_lexer": "ipython3",
   "version": "3.8.10"
  }
 },
 "nbformat": 4,
 "nbformat_minor": 5
}
