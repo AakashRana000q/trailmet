{
 "cells": [
  {
   "cell_type": "code",
   "execution_count": null,
   "metadata": {},
   "outputs": [],
   "source": [
    "DEVICE = 'cuda:2'\n",
    "DATA_PATH = '/workspace/code/Akash/ImageNet'\n",
    "BATCH_SIZE = 256"
   ]
  },
  {
   "cell_type": "code",
   "execution_count": null,
   "metadata": {},
   "outputs": [],
   "source": [
    "import os\n",
    "import sys\n",
    "import torch\n",
    "import torchvision.datasets as Datasets\n",
    "from torchvision import transforms as tfms\n",
    "from torch.utils.data import DataLoader\n",
    "sys.path.append(\"../../\")\n",
    "torch.cuda.set_device(int(DEVICE[-1]))"
   ]
  },
  {
   "cell_type": "code",
   "execution_count": null,
   "metadata": {},
   "outputs": [],
   "source": [
    "stats = ((0.5071, 0.4867, 0.4408), (0.2675, 0.2565, 0.2761))\n",
    "train_tfms = tfms.Compose([\n",
    "    tfms.RandomCrop(32, padding=4, padding_mode='reflect'),\n",
    "    tfms.RandomHorizontalFlip(),\n",
    "    tfms.ToTensor(),\n",
    "    tfms.Normalize(*stats, inplace=True)\n",
    "])\n",
    "test_tfms = tfms.Compose([\n",
    "    tfms.ToTensor(),\n",
    "    tfms.Normalize(*stats)\n",
    "])"
   ]
  },
  {
   "cell_type": "code",
   "execution_count": null,
   "metadata": {},
   "outputs": [],
   "source": [
    "cifar100_train = Datasets.CIFAR100(root='./data', train=True, download=True, transform=test_tfms)\n",
    "cifar100_test = Datasets.CIFAR100(root='./data', train=False, download=True, transform=test_tfms)\n",
    "\n",
    "train_loader = DataLoader(cifar100_train, shuffle=True, num_workers=1, batch_size=BATCH_SIZE)\n",
    "test_loader = DataLoader(cifar100_test, shuffle=False, num_workers=1, batch_size=BATCH_SIZE)\n",
    "\n",
    "dataloaders = {\"train\" : train_loader , \"val\" : test_loader}"
   ]
  },
  {
   "cell_type": "code",
   "execution_count": null,
   "metadata": {},
   "outputs": [],
   "source": [
    "# import libraries\n",
    "from trailmet.models import resnet\n",
    "from trailmet.algorithms.quantize.lapq import LAPQ"
   ]
  },
  {
   "cell_type": "code",
   "execution_count": null,
   "metadata": {},
   "outputs": [],
   "source": [
    "# load model\n",
    "cnn=resnet.make_resnet50(100,32)\n",
    "checkpoint = torch.load(\"./resnet50_cifar100-pretrained.pth\", map_location=DEVICE)\n",
    "cnn.load_state_dict(checkpoint['state_dict'])"
   ]
  },
  {
   "cell_type": "code",
   "execution_count": null,
   "metadata": {},
   "outputs": [],
   "source": [
    "# test model\n",
    "from trailmet.algorithms.algorithms import BaseAlgorithm\n",
    "BaseAlgorithm().test(model=cnn, dataloader=test_loader, device=torch.device(DEVICE))"
   ]
  },
  {
   "cell_type": "code",
   "execution_count": null,
   "metadata": {},
   "outputs": [],
   "source": [
    "# quantize model\n",
    "kwargs = {\n",
    "    'W_BITS':4, \n",
    "    'A_BITS':4, \n",
    "    'ACT_QUANT':True,\n",
    "    'CALIB_BATCHES':1024//BATCH_SIZE, \n",
    "    'MAX_ITER':1,\n",
    "    'MAX_FEV':1,\n",
    "    'VERBOSE':True,\n",
    "    'PRINT_FREQ':20,\n",
    "    'GPU_ID':int(DEVICE[-1]),\n",
    "    'SEED':42\n",
    "    }\n",
    "qnn = LAPQ(cnn, dataloaders, **kwargs)\n",
    "qnn.compress_model()"
   ]
  }
 ],
 "metadata": {
  "kernelspec": {
   "display_name": "Python 3.8.5 64-bit ('anaconda3')",
   "language": "python",
   "name": "python3"
  },
  "language_info": {
   "name": "python",
   "version": "3.8.5"
  },
  "orig_nbformat": 4,
  "vscode": {
   "interpreter": {
    "hash": "96762580dc771c728ac9a1b8aa29a3a420bc09545a8c1a32553175fbb1f6eb2a"
   }
  }
 },
 "nbformat": 4,
 "nbformat_minor": 2
}
