{
 "cells": [
  {
   "cell_type": "code",
   "execution_count": 1,
   "id": "b1e5537c-f891-4bb2-af3f-9cfe7a1a8e41",
   "metadata": {},
   "outputs": [],
   "source": [
    "import sys\n",
    "sys.path.append('/home/ubuntu/workspace/trailmet')"
   ]
  },
  {
   "cell_type": "code",
   "execution_count": 2,
   "id": "2d947b58-6d5d-45ef-a312-ec80c32a0c62",
   "metadata": {},
   "outputs": [],
   "source": [
    "from datasets.ultramnist import UltraMNIST"
   ]
  },
  {
   "cell_type": "code",
   "execution_count": 3,
   "id": "0dc0efb8-5c79-4c7d-859e-c0e44a451ca7",
   "metadata": {},
   "outputs": [
    {
     "name": "stdout",
     "output_type": "stream",
     "text": [
      "Inherited init created correctly.\n",
      "Hello\n"
     ]
    }
   ],
   "source": [
    "obj_umnist = UltraMNIST('')"
   ]
  },
  {
   "cell_type": "code",
   "execution_count": null,
   "id": "20fd57ec-e6ce-4c6b-a28f-8bf6b1924520",
   "metadata": {},
   "outputs": [],
   "source": []
  }
 ],
 "metadata": {
  "kernelspec": {
   "display_name": "Python 3 (ipykernel)",
   "language": "python",
   "name": "python3"
  },
  "language_info": {
   "codemirror_mode": {
    "name": "ipython",
    "version": 3
   },
   "file_extension": ".py",
   "mimetype": "text/x-python",
   "name": "python",
   "nbconvert_exporter": "python",
   "pygments_lexer": "ipython3",
   "version": "3.8.10"
  }
 },
 "nbformat": 4,
 "nbformat_minor": 5
}
